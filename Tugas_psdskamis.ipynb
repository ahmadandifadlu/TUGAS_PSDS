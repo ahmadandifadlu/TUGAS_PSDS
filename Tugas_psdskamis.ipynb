{
  "nbformat": 4,
  "nbformat_minor": 0,
  "metadata": {
    "colab": {
      "provenance": []
    },
    "kernelspec": {
      "name": "python3",
      "display_name": "Python 3"
    },
    "language_info": {
      "name": "python"
    }
  },
  "cells": [
    {
      "cell_type": "markdown",
      "source": [
        "**STRUKTUR PROGAM PADA PHYTON**"
      ],
      "metadata": {
        "id": "OH7DnKAm-iQ6"
      }
    },
    {
      "cell_type": "markdown",
      "source": [
        "1. Statement"
      ],
      "metadata": {
        "id": "x15C5xE7AH8g"
      }
    },
    {
      "cell_type": "code",
      "source": [
        "print(\"belajar phyton menyenangkan\")\n",
        "print(\"halo dunia\")"
      ],
      "metadata": {
        "colab": {
          "base_uri": "https://localhost:8080/"
        },
        "id": "qnJuCPwE-pCb",
        "outputId": "fed6abca-2b3e-4a47-c2eb-d2633c372072"
      },
      "execution_count": 1,
      "outputs": [
        {
          "output_type": "stream",
          "name": "stdout",
          "text": [
            "belajar phyton menyenangkan\n",
            "halo dunia\n"
          ]
        }
      ]
    },
    {
      "cell_type": "markdown",
      "source": [
        "2. Variabels"
      ],
      "metadata": {
        "id": "jOdY_cpZAQJH"
      }
    },
    {
      "cell_type": "code",
      "source": [
        "bilangan1 = 5\n",
        "bilangan2 = 10\n",
        "kalimat = \"Pejuang Data 3\""
      ],
      "metadata": {
        "id": "_qoh8W5q-_J2"
      },
      "execution_count": 3,
      "outputs": []
    },
    {
      "cell_type": "markdown",
      "source": [
        "3. Operators"
      ],
      "metadata": {
        "id": "8NGgMz5PAVGx"
      }
    },
    {
      "cell_type": "code",
      "source": [
        "bilangan1 + bilangan2"
      ],
      "metadata": {
        "colab": {
          "base_uri": "https://localhost:8080/"
        },
        "id": "0-5iKvKC_Pym",
        "outputId": "5c7b963e-1dc3-4723-fb57-f02a8b709ffe"
      },
      "execution_count": 4,
      "outputs": [
        {
          "output_type": "execute_result",
          "data": {
            "text/plain": [
              "15"
            ]
          },
          "metadata": {},
          "execution_count": 4
        }
      ]
    },
    {
      "cell_type": "markdown",
      "source": [
        "4. Comments\n"
      ],
      "metadata": {
        "id": "SphZbPssAyI6"
      }
    },
    {
      "cell_type": "code",
      "source": [
        "#single line comments\n",
        "#ini adalah comment\n",
        "print(\"belajar phyton\")"
      ],
      "metadata": {
        "colab": {
          "base_uri": "https://localhost:8080/"
        },
        "id": "kFzFU-3IA3fc",
        "outputId": "1ee9c197-eef2-4ac0-e7fc-c589d0dec427"
      },
      "execution_count": 6,
      "outputs": [
        {
          "output_type": "stream",
          "name": "stdout",
          "text": [
            "belajar phyton\n"
          ]
        }
      ]
    },
    {
      "cell_type": "code",
      "source": [
        "#multi line comment\n",
        "'''\n",
        "Ini adalah komentar panjang\n",
        "Bisa digunakan untuk memberikan penjelasan\n",
        "panjang pada Sell Kode Phyton,\n",
        "Misal dokumentai progam, spesifikasi\n",
        "input output atau lainnya\n",
        "'''\n",
        "print(\"Belajar phyton menyenangkan\")\n"
      ],
      "metadata": {
        "colab": {
          "base_uri": "https://localhost:8080/"
        },
        "id": "7jMNwiZDBaH9",
        "outputId": "2b703884-e13d-451c-88b8-63c09d8e33a1"
      },
      "execution_count": 7,
      "outputs": [
        {
          "output_type": "stream",
          "name": "stdout",
          "text": [
            "Belajar phyton menyenangkan\n"
          ]
        }
      ]
    }
  ]
}